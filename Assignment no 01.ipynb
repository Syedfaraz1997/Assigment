{
 "cells": [
  {
   "cell_type": "code",
   "execution_count": 1,
   "metadata": {},
   "outputs": [
    {
     "name": "stdout",
     "output_type": "stream",
     "text": [
      "Twinkle, twinkle, little star,\n",
      "     How are wonder what you are! \n",
      "                 Up above the  world so high,\n",
      "                 Like a diamond in the Sky.\n",
      "Twinkle, twinkle, little star,\n",
      "      How are wonder what you are!\n"
     ]
    }
   ],
   "source": [
    "print(\"Twinkle, twinkle, little star,\"); \n",
    "print(\"     How are wonder what you are! \");\n",
    "print(\"                 Up above the  world so high,\");   \n",
    "print(\"                 Like a diamond in the Sky.\");\n",
    "print(\"Twinkle, twinkle, little star,\");\n",
    "print(\"      How are wonder what you are!\");"
   ]
  },
  {
   "cell_type": "code",
   "execution_count": 3,
   "metadata": {},
   "outputs": [
    {
     "name": "stdout",
     "output_type": "stream",
     "text": [
      "3.7.4 (default, Aug  9 2019, 18:34:13) [MSC v.1915 64 bit (AMD64)]\n"
     ]
    }
   ],
   "source": [
    "import sys\n",
    "print(sys.version);"
   ]
  },
  {
   "cell_type": "code",
   "execution_count": 4,
   "metadata": {},
   "outputs": [
    {
     "name": "stdout",
     "output_type": "stream",
     "text": [
      "2019-11-04 19:11:38.924894\n"
     ]
    }
   ],
   "source": [
    "import datetime\n",
    "x = datetime.datetime.now()\n",
    "print(x);"
   ]
  },
  {
   "cell_type": "code",
   "execution_count": 5,
   "metadata": {},
   "outputs": [
    {
     "name": "stdout",
     "output_type": "stream",
     "text": [
      "Please enter the value of r:4\n",
      "Please Enter a Number of p3.143\n",
      "25.144\n"
     ]
    }
   ],
   "source": [
    "r = int (input(\"Please enter the value of r:\"));\n",
    "p = float (input(\"Please Enter a Number of p\"));\n",
    "C =  2 * p * r;\n",
    "print(C); "
   ]
  },
  {
   "cell_type": "code",
   "execution_count": 8,
   "metadata": {},
   "outputs": [
    {
     "name": "stdout",
     "output_type": "stream",
     "text": [
      "Please enter your First Name: Syed Muhammad Faraz Ali\n",
      "Please enter your First Name: Syed Muhammad Ishtiaque Ali\n",
      "Syed Muhammad Ishtiaque Ali Syed Muhammad Faraz Ali\n"
     ]
    }
   ],
   "source": [
    "FirstName = input(\"Please enter your First Name: \");\n",
    "LastName = input(\"Please enter your First Name: \");\n",
    "FullName = (LastName + \" \" + FirstName);\n",
    "print(FullName);"
   ]
  },
  {
   "cell_type": "code",
   "execution_count": null,
   "metadata": {},
   "outputs": [],
   "source": []
  },
  {
   "cell_type": "code",
   "execution_count": null,
   "metadata": {},
   "outputs": [],
   "source": []
  }
 ],
 "metadata": {
  "kernelspec": {
   "display_name": "Python 3",
   "language": "python",
   "name": "python3"
  },
  "language_info": {
   "codemirror_mode": {
    "name": "ipython",
    "version": 3
   },
   "file_extension": ".py",
   "mimetype": "text/x-python",
   "name": "python",
   "nbconvert_exporter": "python",
   "pygments_lexer": "ipython3",
   "version": "3.7.4"
  }
 },
 "nbformat": 4,
 "nbformat_minor": 2
}
